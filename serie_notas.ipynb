{
  "nbformat": 4,
  "nbformat_minor": 0,
  "metadata": {
    "colab": {
      "provenance": [],
      "toc_visible": true
    },
    "kernelspec": {
      "name": "python3",
      "display_name": "Python 3"
    },
    "language_info": {
      "name": "python"
    }
  },
  "cells": [
    {
      "cell_type": "markdown",
      "source": [
        "# UNA SERIE DE NOTAS"
      ],
      "metadata": {
        "id": "CNigacbQieTl"
      }
    },
    {
      "cell_type": "markdown",
      "source": [
        "## IMPORTACIONES"
      ],
      "metadata": {
        "id": "jR_d8xWcih3j"
      }
    },
    {
      "cell_type": "markdown",
      "source": [
        "Para la realización del ejercicio hemos importado las siguientes librerias.\n",
        "\n",
        "- Numpy: Libreria dedicada a las operaciones matemáticas\n",
        "- Pandas: Libreria dedicada al análisis de datos\n",
        "- Matplotlib: Libreria dedicada a la visualización de datos mediante gráficas."
      ],
      "metadata": {
        "id": "vqz2FbAZjGBr"
      }
    },
    {
      "cell_type": "code",
      "execution_count": 1,
      "metadata": {
        "id": "epcvm_TiiFUi",
        "colab": {
          "base_uri": "https://localhost:8080/"
        },
        "outputId": "547aefb2-b437-4974-847e-61ca2ed847aa"
      },
      "outputs": [
        {
          "output_type": "stream",
          "name": "stdout",
          "text": [
            "Setup complete\n"
          ]
        }
      ],
      "source": [
        "import matplotlib.pyplot as plt\n",
        "import numpy as np\n",
        "import pandas as pd\n",
        "from collections import Counter #MÁXIMO\n",
        "from math import *\n",
        "print('Setup complete')"
      ]
    },
    {
      "cell_type": "markdown",
      "source": [
        "## CREACIÓN DEL DATASET"
      ],
      "metadata": {
        "id": "0c5FkJQ6ijNW"
      }
    },
    {
      "cell_type": "markdown",
      "source": [
        "Con las notas proporcionadas, se crea un dataframe con todas ellas. También mediante info() comprobamos que se hayan tomado esos valores tipo int64."
      ],
      "metadata": {
        "id": "5BLQUdp0kBu6"
      }
    },
    {
      "cell_type": "code",
      "source": [
        "df_notas = pd.DataFrame({'NOTAS':np.array([3,19,10,15,14,12,9,8,11,12,11,12,13,11,14,16])})"
      ],
      "metadata": {
        "id": "MKHxxlcpjPns"
      },
      "execution_count": 2,
      "outputs": []
    },
    {
      "cell_type": "code",
      "source": [
        "df_notas.head()"
      ],
      "metadata": {
        "colab": {
          "base_uri": "https://localhost:8080/",
          "height": 206
        },
        "id": "5sg4DWIAjotM",
        "outputId": "0d290356-4d11-4d1b-c6dc-171fcf47040e"
      },
      "execution_count": 3,
      "outputs": [
        {
          "output_type": "execute_result",
          "data": {
            "text/plain": [
              "   NOTAS\n",
              "0      3\n",
              "1     19\n",
              "2     10\n",
              "3     15\n",
              "4     14"
            ],
            "text/html": [
              "\n",
              "  <div id=\"df-8fb794c5-c5a8-46bf-9bac-3b0e80d166e5\">\n",
              "    <div class=\"colab-df-container\">\n",
              "      <div>\n",
              "<style scoped>\n",
              "    .dataframe tbody tr th:only-of-type {\n",
              "        vertical-align: middle;\n",
              "    }\n",
              "\n",
              "    .dataframe tbody tr th {\n",
              "        vertical-align: top;\n",
              "    }\n",
              "\n",
              "    .dataframe thead th {\n",
              "        text-align: right;\n",
              "    }\n",
              "</style>\n",
              "<table border=\"1\" class=\"dataframe\">\n",
              "  <thead>\n",
              "    <tr style=\"text-align: right;\">\n",
              "      <th></th>\n",
              "      <th>NOTAS</th>\n",
              "    </tr>\n",
              "  </thead>\n",
              "  <tbody>\n",
              "    <tr>\n",
              "      <th>0</th>\n",
              "      <td>3</td>\n",
              "    </tr>\n",
              "    <tr>\n",
              "      <th>1</th>\n",
              "      <td>19</td>\n",
              "    </tr>\n",
              "    <tr>\n",
              "      <th>2</th>\n",
              "      <td>10</td>\n",
              "    </tr>\n",
              "    <tr>\n",
              "      <th>3</th>\n",
              "      <td>15</td>\n",
              "    </tr>\n",
              "    <tr>\n",
              "      <th>4</th>\n",
              "      <td>14</td>\n",
              "    </tr>\n",
              "  </tbody>\n",
              "</table>\n",
              "</div>\n",
              "      <button class=\"colab-df-convert\" onclick=\"convertToInteractive('df-8fb794c5-c5a8-46bf-9bac-3b0e80d166e5')\"\n",
              "              title=\"Convert this dataframe to an interactive table.\"\n",
              "              style=\"display:none;\">\n",
              "        \n",
              "  <svg xmlns=\"http://www.w3.org/2000/svg\" height=\"24px\"viewBox=\"0 0 24 24\"\n",
              "       width=\"24px\">\n",
              "    <path d=\"M0 0h24v24H0V0z\" fill=\"none\"/>\n",
              "    <path d=\"M18.56 5.44l.94 2.06.94-2.06 2.06-.94-2.06-.94-.94-2.06-.94 2.06-2.06.94zm-11 1L8.5 8.5l.94-2.06 2.06-.94-2.06-.94L8.5 2.5l-.94 2.06-2.06.94zm10 10l.94 2.06.94-2.06 2.06-.94-2.06-.94-.94-2.06-.94 2.06-2.06.94z\"/><path d=\"M17.41 7.96l-1.37-1.37c-.4-.4-.92-.59-1.43-.59-.52 0-1.04.2-1.43.59L10.3 9.45l-7.72 7.72c-.78.78-.78 2.05 0 2.83L4 21.41c.39.39.9.59 1.41.59.51 0 1.02-.2 1.41-.59l7.78-7.78 2.81-2.81c.8-.78.8-2.07 0-2.86zM5.41 20L4 18.59l7.72-7.72 1.47 1.35L5.41 20z\"/>\n",
              "  </svg>\n",
              "      </button>\n",
              "      \n",
              "  <style>\n",
              "    .colab-df-container {\n",
              "      display:flex;\n",
              "      flex-wrap:wrap;\n",
              "      gap: 12px;\n",
              "    }\n",
              "\n",
              "    .colab-df-convert {\n",
              "      background-color: #E8F0FE;\n",
              "      border: none;\n",
              "      border-radius: 50%;\n",
              "      cursor: pointer;\n",
              "      display: none;\n",
              "      fill: #1967D2;\n",
              "      height: 32px;\n",
              "      padding: 0 0 0 0;\n",
              "      width: 32px;\n",
              "    }\n",
              "\n",
              "    .colab-df-convert:hover {\n",
              "      background-color: #E2EBFA;\n",
              "      box-shadow: 0px 1px 2px rgba(60, 64, 67, 0.3), 0px 1px 3px 1px rgba(60, 64, 67, 0.15);\n",
              "      fill: #174EA6;\n",
              "    }\n",
              "\n",
              "    [theme=dark] .colab-df-convert {\n",
              "      background-color: #3B4455;\n",
              "      fill: #D2E3FC;\n",
              "    }\n",
              "\n",
              "    [theme=dark] .colab-df-convert:hover {\n",
              "      background-color: #434B5C;\n",
              "      box-shadow: 0px 1px 3px 1px rgba(0, 0, 0, 0.15);\n",
              "      filter: drop-shadow(0px 1px 2px rgba(0, 0, 0, 0.3));\n",
              "      fill: #FFFFFF;\n",
              "    }\n",
              "  </style>\n",
              "\n",
              "      <script>\n",
              "        const buttonEl =\n",
              "          document.querySelector('#df-8fb794c5-c5a8-46bf-9bac-3b0e80d166e5 button.colab-df-convert');\n",
              "        buttonEl.style.display =\n",
              "          google.colab.kernel.accessAllowed ? 'block' : 'none';\n",
              "\n",
              "        async function convertToInteractive(key) {\n",
              "          const element = document.querySelector('#df-8fb794c5-c5a8-46bf-9bac-3b0e80d166e5');\n",
              "          const dataTable =\n",
              "            await google.colab.kernel.invokeFunction('convertToInteractive',\n",
              "                                                     [key], {});\n",
              "          if (!dataTable) return;\n",
              "\n",
              "          const docLinkHtml = 'Like what you see? Visit the ' +\n",
              "            '<a target=\"_blank\" href=https://colab.research.google.com/notebooks/data_table.ipynb>data table notebook</a>'\n",
              "            + ' to learn more about interactive tables.';\n",
              "          element.innerHTML = '';\n",
              "          dataTable['output_type'] = 'display_data';\n",
              "          await google.colab.output.renderOutput(dataTable, element);\n",
              "          const docLink = document.createElement('div');\n",
              "          docLink.innerHTML = docLinkHtml;\n",
              "          element.appendChild(docLink);\n",
              "        }\n",
              "      </script>\n",
              "    </div>\n",
              "  </div>\n",
              "  "
            ]
          },
          "metadata": {},
          "execution_count": 3
        }
      ]
    },
    {
      "cell_type": "code",
      "source": [
        "round(df_notas.describe(), 2)"
      ],
      "metadata": {
        "colab": {
          "base_uri": "https://localhost:8080/",
          "height": 300
        },
        "id": "qlPjygBrjrms",
        "outputId": "dda509c7-0d84-4d9e-d396-e5433a916ca0"
      },
      "execution_count": 4,
      "outputs": [
        {
          "output_type": "execute_result",
          "data": {
            "text/plain": [
              "       NOTAS\n",
              "count  16.00\n",
              "mean   11.88\n",
              "std     3.61\n",
              "min     3.00\n",
              "25%    10.75\n",
              "50%    12.00\n",
              "75%    14.00\n",
              "max    19.00"
            ],
            "text/html": [
              "\n",
              "  <div id=\"df-99c0abd1-ddbc-4823-ba0d-572c2350493b\">\n",
              "    <div class=\"colab-df-container\">\n",
              "      <div>\n",
              "<style scoped>\n",
              "    .dataframe tbody tr th:only-of-type {\n",
              "        vertical-align: middle;\n",
              "    }\n",
              "\n",
              "    .dataframe tbody tr th {\n",
              "        vertical-align: top;\n",
              "    }\n",
              "\n",
              "    .dataframe thead th {\n",
              "        text-align: right;\n",
              "    }\n",
              "</style>\n",
              "<table border=\"1\" class=\"dataframe\">\n",
              "  <thead>\n",
              "    <tr style=\"text-align: right;\">\n",
              "      <th></th>\n",
              "      <th>NOTAS</th>\n",
              "    </tr>\n",
              "  </thead>\n",
              "  <tbody>\n",
              "    <tr>\n",
              "      <th>count</th>\n",
              "      <td>16.00</td>\n",
              "    </tr>\n",
              "    <tr>\n",
              "      <th>mean</th>\n",
              "      <td>11.88</td>\n",
              "    </tr>\n",
              "    <tr>\n",
              "      <th>std</th>\n",
              "      <td>3.61</td>\n",
              "    </tr>\n",
              "    <tr>\n",
              "      <th>min</th>\n",
              "      <td>3.00</td>\n",
              "    </tr>\n",
              "    <tr>\n",
              "      <th>25%</th>\n",
              "      <td>10.75</td>\n",
              "    </tr>\n",
              "    <tr>\n",
              "      <th>50%</th>\n",
              "      <td>12.00</td>\n",
              "    </tr>\n",
              "    <tr>\n",
              "      <th>75%</th>\n",
              "      <td>14.00</td>\n",
              "    </tr>\n",
              "    <tr>\n",
              "      <th>max</th>\n",
              "      <td>19.00</td>\n",
              "    </tr>\n",
              "  </tbody>\n",
              "</table>\n",
              "</div>\n",
              "      <button class=\"colab-df-convert\" onclick=\"convertToInteractive('df-99c0abd1-ddbc-4823-ba0d-572c2350493b')\"\n",
              "              title=\"Convert this dataframe to an interactive table.\"\n",
              "              style=\"display:none;\">\n",
              "        \n",
              "  <svg xmlns=\"http://www.w3.org/2000/svg\" height=\"24px\"viewBox=\"0 0 24 24\"\n",
              "       width=\"24px\">\n",
              "    <path d=\"M0 0h24v24H0V0z\" fill=\"none\"/>\n",
              "    <path d=\"M18.56 5.44l.94 2.06.94-2.06 2.06-.94-2.06-.94-.94-2.06-.94 2.06-2.06.94zm-11 1L8.5 8.5l.94-2.06 2.06-.94-2.06-.94L8.5 2.5l-.94 2.06-2.06.94zm10 10l.94 2.06.94-2.06 2.06-.94-2.06-.94-.94-2.06-.94 2.06-2.06.94z\"/><path d=\"M17.41 7.96l-1.37-1.37c-.4-.4-.92-.59-1.43-.59-.52 0-1.04.2-1.43.59L10.3 9.45l-7.72 7.72c-.78.78-.78 2.05 0 2.83L4 21.41c.39.39.9.59 1.41.59.51 0 1.02-.2 1.41-.59l7.78-7.78 2.81-2.81c.8-.78.8-2.07 0-2.86zM5.41 20L4 18.59l7.72-7.72 1.47 1.35L5.41 20z\"/>\n",
              "  </svg>\n",
              "      </button>\n",
              "      \n",
              "  <style>\n",
              "    .colab-df-container {\n",
              "      display:flex;\n",
              "      flex-wrap:wrap;\n",
              "      gap: 12px;\n",
              "    }\n",
              "\n",
              "    .colab-df-convert {\n",
              "      background-color: #E8F0FE;\n",
              "      border: none;\n",
              "      border-radius: 50%;\n",
              "      cursor: pointer;\n",
              "      display: none;\n",
              "      fill: #1967D2;\n",
              "      height: 32px;\n",
              "      padding: 0 0 0 0;\n",
              "      width: 32px;\n",
              "    }\n",
              "\n",
              "    .colab-df-convert:hover {\n",
              "      background-color: #E2EBFA;\n",
              "      box-shadow: 0px 1px 2px rgba(60, 64, 67, 0.3), 0px 1px 3px 1px rgba(60, 64, 67, 0.15);\n",
              "      fill: #174EA6;\n",
              "    }\n",
              "\n",
              "    [theme=dark] .colab-df-convert {\n",
              "      background-color: #3B4455;\n",
              "      fill: #D2E3FC;\n",
              "    }\n",
              "\n",
              "    [theme=dark] .colab-df-convert:hover {\n",
              "      background-color: #434B5C;\n",
              "      box-shadow: 0px 1px 3px 1px rgba(0, 0, 0, 0.15);\n",
              "      filter: drop-shadow(0px 1px 2px rgba(0, 0, 0, 0.3));\n",
              "      fill: #FFFFFF;\n",
              "    }\n",
              "  </style>\n",
              "\n",
              "      <script>\n",
              "        const buttonEl =\n",
              "          document.querySelector('#df-99c0abd1-ddbc-4823-ba0d-572c2350493b button.colab-df-convert');\n",
              "        buttonEl.style.display =\n",
              "          google.colab.kernel.accessAllowed ? 'block' : 'none';\n",
              "\n",
              "        async function convertToInteractive(key) {\n",
              "          const element = document.querySelector('#df-99c0abd1-ddbc-4823-ba0d-572c2350493b');\n",
              "          const dataTable =\n",
              "            await google.colab.kernel.invokeFunction('convertToInteractive',\n",
              "                                                     [key], {});\n",
              "          if (!dataTable) return;\n",
              "\n",
              "          const docLinkHtml = 'Like what you see? Visit the ' +\n",
              "            '<a target=\"_blank\" href=https://colab.research.google.com/notebooks/data_table.ipynb>data table notebook</a>'\n",
              "            + ' to learn more about interactive tables.';\n",
              "          element.innerHTML = '';\n",
              "          dataTable['output_type'] = 'display_data';\n",
              "          await google.colab.output.renderOutput(dataTable, element);\n",
              "          const docLink = document.createElement('div');\n",
              "          docLink.innerHTML = docLinkHtml;\n",
              "          element.appendChild(docLink);\n",
              "        }\n",
              "      </script>\n",
              "    </div>\n",
              "  </div>\n",
              "  "
            ]
          },
          "metadata": {},
          "execution_count": 4
        }
      ]
    },
    {
      "cell_type": "code",
      "source": [
        "df_notas.info()"
      ],
      "metadata": {
        "colab": {
          "base_uri": "https://localhost:8080/"
        },
        "id": "R6twUNenj0Fg",
        "outputId": "b6cfe59d-58b2-445c-a7d8-d10d085a87d2"
      },
      "execution_count": 5,
      "outputs": [
        {
          "output_type": "stream",
          "name": "stdout",
          "text": [
            "<class 'pandas.core.frame.DataFrame'>\n",
            "RangeIndex: 16 entries, 0 to 15\n",
            "Data columns (total 1 columns):\n",
            " #   Column  Non-Null Count  Dtype\n",
            "---  ------  --------------  -----\n",
            " 0   NOTAS   16 non-null     int64\n",
            "dtypes: int64(1)\n",
            "memory usage: 256.0 bytes\n"
          ]
        }
      ]
    },
    {
      "cell_type": "markdown",
      "source": [
        "## ANÁLISIS DE NOTAS"
      ],
      "metadata": {
        "id": "i_k6-JnXkUb5"
      }
    },
    {
      "cell_type": "markdown",
      "source": [
        "El primer paso para realizar un buen análisis de datos es saber cuántos datos tenemos. De esta manera detectamos si faltan características y si se dispone de bastantes datos para realizar Maching Learning.\n",
        "\n"
      ],
      "metadata": {
        "id": "YUOtAKJmpIoz"
      }
    },
    {
      "cell_type": "code",
      "source": [
        "numero_datos = df_notas.count()[0]\n",
        "if numero_datos > 10: #Se considera 10 datos son suficientes para realizar un buen análisis\n",
        "  print(f'Cantidad de datos: {numero_datos}')\n",
        "else:\n",
        "  print('No se tiene la cantidad necesaria de datos para realizar un buen aprendizaje')"
      ],
      "metadata": {
        "colab": {
          "base_uri": "https://localhost:8080/"
        },
        "id": "V625C82kqcUM",
        "outputId": "baa724fc-6c2c-4174-d2bb-39eaa9ee1328"
      },
      "execution_count": 6,
      "outputs": [
        {
          "output_type": "stream",
          "name": "stdout",
          "text": [
            "Cantidad de datos: 16\n"
          ]
        }
      ]
    },
    {
      "cell_type": "markdown",
      "source": [
        "### **Medidas centralizadas**\n",
        "\n"
      ],
      "metadata": {
        "id": "yE3856s1oP8A"
      }
    },
    {
      "cell_type": "markdown",
      "source": [
        "#### Máximos y mínimos"
      ],
      "metadata": {
        "id": "IPKwDiyawjzC"
      }
    },
    {
      "cell_type": "markdown",
      "source": [
        "Con el objetivo de conocer los rangos, es conveniente saber su mín y máx."
      ],
      "metadata": {
        "id": "5nAEa3ausuYG"
      }
    },
    {
      "cell_type": "code",
      "source": [
        "min = df_notas['NOTAS'].min()\n",
        "max = df_notas['NOTAS'].max()\n",
        "print('Mínimo de nota: ', min, '\\nMáximo de nota: ', max)"
      ],
      "metadata": {
        "colab": {
          "base_uri": "https://localhost:8080/"
        },
        "id": "xga9fS3ps1Mx",
        "outputId": "17461600-6c3f-48b3-fd02-366b4eafc734"
      },
      "execution_count": 7,
      "outputs": [
        {
          "output_type": "stream",
          "name": "stdout",
          "text": [
            "Mínimo de nota:  3 \n",
            "Máximo de nota:  19\n"
          ]
        }
      ]
    },
    {
      "cell_type": "markdown",
      "source": [
        "Para corroborar eso ordenamos el dataframe de menor a mayor y obtenemos el primer y último elemento"
      ],
      "metadata": {
        "id": "Ssmy9-4BtZf2"
      }
    },
    {
      "cell_type": "code",
      "source": [
        "notas_ordenadas = df_notas.sort_values(by = 'NOTAS')\n",
        "notas_ordenadas = notas_ordenadas.reset_index(drop=True) #Resetear el index ya que sino sale desordenado\n",
        "notas_ordenadas.head(2) #Inicio de la lista\n"
      ],
      "metadata": {
        "colab": {
          "base_uri": "https://localhost:8080/",
          "height": 112
        },
        "id": "-KtYggMetgbP",
        "outputId": "8a86a664-f64b-4af6-f91a-f970a4850cfd"
      },
      "execution_count": 8,
      "outputs": [
        {
          "output_type": "execute_result",
          "data": {
            "text/plain": [
              "   NOTAS\n",
              "0      3\n",
              "1      8"
            ],
            "text/html": [
              "\n",
              "  <div id=\"df-e8604a71-0e31-41fb-a882-ea58c048d793\">\n",
              "    <div class=\"colab-df-container\">\n",
              "      <div>\n",
              "<style scoped>\n",
              "    .dataframe tbody tr th:only-of-type {\n",
              "        vertical-align: middle;\n",
              "    }\n",
              "\n",
              "    .dataframe tbody tr th {\n",
              "        vertical-align: top;\n",
              "    }\n",
              "\n",
              "    .dataframe thead th {\n",
              "        text-align: right;\n",
              "    }\n",
              "</style>\n",
              "<table border=\"1\" class=\"dataframe\">\n",
              "  <thead>\n",
              "    <tr style=\"text-align: right;\">\n",
              "      <th></th>\n",
              "      <th>NOTAS</th>\n",
              "    </tr>\n",
              "  </thead>\n",
              "  <tbody>\n",
              "    <tr>\n",
              "      <th>0</th>\n",
              "      <td>3</td>\n",
              "    </tr>\n",
              "    <tr>\n",
              "      <th>1</th>\n",
              "      <td>8</td>\n",
              "    </tr>\n",
              "  </tbody>\n",
              "</table>\n",
              "</div>\n",
              "      <button class=\"colab-df-convert\" onclick=\"convertToInteractive('df-e8604a71-0e31-41fb-a882-ea58c048d793')\"\n",
              "              title=\"Convert this dataframe to an interactive table.\"\n",
              "              style=\"display:none;\">\n",
              "        \n",
              "  <svg xmlns=\"http://www.w3.org/2000/svg\" height=\"24px\"viewBox=\"0 0 24 24\"\n",
              "       width=\"24px\">\n",
              "    <path d=\"M0 0h24v24H0V0z\" fill=\"none\"/>\n",
              "    <path d=\"M18.56 5.44l.94 2.06.94-2.06 2.06-.94-2.06-.94-.94-2.06-.94 2.06-2.06.94zm-11 1L8.5 8.5l.94-2.06 2.06-.94-2.06-.94L8.5 2.5l-.94 2.06-2.06.94zm10 10l.94 2.06.94-2.06 2.06-.94-2.06-.94-.94-2.06-.94 2.06-2.06.94z\"/><path d=\"M17.41 7.96l-1.37-1.37c-.4-.4-.92-.59-1.43-.59-.52 0-1.04.2-1.43.59L10.3 9.45l-7.72 7.72c-.78.78-.78 2.05 0 2.83L4 21.41c.39.39.9.59 1.41.59.51 0 1.02-.2 1.41-.59l7.78-7.78 2.81-2.81c.8-.78.8-2.07 0-2.86zM5.41 20L4 18.59l7.72-7.72 1.47 1.35L5.41 20z\"/>\n",
              "  </svg>\n",
              "      </button>\n",
              "      \n",
              "  <style>\n",
              "    .colab-df-container {\n",
              "      display:flex;\n",
              "      flex-wrap:wrap;\n",
              "      gap: 12px;\n",
              "    }\n",
              "\n",
              "    .colab-df-convert {\n",
              "      background-color: #E8F0FE;\n",
              "      border: none;\n",
              "      border-radius: 50%;\n",
              "      cursor: pointer;\n",
              "      display: none;\n",
              "      fill: #1967D2;\n",
              "      height: 32px;\n",
              "      padding: 0 0 0 0;\n",
              "      width: 32px;\n",
              "    }\n",
              "\n",
              "    .colab-df-convert:hover {\n",
              "      background-color: #E2EBFA;\n",
              "      box-shadow: 0px 1px 2px rgba(60, 64, 67, 0.3), 0px 1px 3px 1px rgba(60, 64, 67, 0.15);\n",
              "      fill: #174EA6;\n",
              "    }\n",
              "\n",
              "    [theme=dark] .colab-df-convert {\n",
              "      background-color: #3B4455;\n",
              "      fill: #D2E3FC;\n",
              "    }\n",
              "\n",
              "    [theme=dark] .colab-df-convert:hover {\n",
              "      background-color: #434B5C;\n",
              "      box-shadow: 0px 1px 3px 1px rgba(0, 0, 0, 0.15);\n",
              "      filter: drop-shadow(0px 1px 2px rgba(0, 0, 0, 0.3));\n",
              "      fill: #FFFFFF;\n",
              "    }\n",
              "  </style>\n",
              "\n",
              "      <script>\n",
              "        const buttonEl =\n",
              "          document.querySelector('#df-e8604a71-0e31-41fb-a882-ea58c048d793 button.colab-df-convert');\n",
              "        buttonEl.style.display =\n",
              "          google.colab.kernel.accessAllowed ? 'block' : 'none';\n",
              "\n",
              "        async function convertToInteractive(key) {\n",
              "          const element = document.querySelector('#df-e8604a71-0e31-41fb-a882-ea58c048d793');\n",
              "          const dataTable =\n",
              "            await google.colab.kernel.invokeFunction('convertToInteractive',\n",
              "                                                     [key], {});\n",
              "          if (!dataTable) return;\n",
              "\n",
              "          const docLinkHtml = 'Like what you see? Visit the ' +\n",
              "            '<a target=\"_blank\" href=https://colab.research.google.com/notebooks/data_table.ipynb>data table notebook</a>'\n",
              "            + ' to learn more about interactive tables.';\n",
              "          element.innerHTML = '';\n",
              "          dataTable['output_type'] = 'display_data';\n",
              "          await google.colab.output.renderOutput(dataTable, element);\n",
              "          const docLink = document.createElement('div');\n",
              "          docLink.innerHTML = docLinkHtml;\n",
              "          element.appendChild(docLink);\n",
              "        }\n",
              "      </script>\n",
              "    </div>\n",
              "  </div>\n",
              "  "
            ]
          },
          "metadata": {},
          "execution_count": 8
        }
      ]
    },
    {
      "cell_type": "code",
      "source": [
        "notas_ordenadas.tail(2) #Final de la lista"
      ],
      "metadata": {
        "colab": {
          "base_uri": "https://localhost:8080/",
          "height": 112
        },
        "id": "DjxHDFJxuH76",
        "outputId": "9a1c3da2-411e-43fe-9191-9432b8ebcf25"
      },
      "execution_count": 9,
      "outputs": [
        {
          "output_type": "execute_result",
          "data": {
            "text/plain": [
              "    NOTAS\n",
              "14     16\n",
              "15     19"
            ],
            "text/html": [
              "\n",
              "  <div id=\"df-e5e04e7c-2766-4ac2-a47f-3d92da118806\">\n",
              "    <div class=\"colab-df-container\">\n",
              "      <div>\n",
              "<style scoped>\n",
              "    .dataframe tbody tr th:only-of-type {\n",
              "        vertical-align: middle;\n",
              "    }\n",
              "\n",
              "    .dataframe tbody tr th {\n",
              "        vertical-align: top;\n",
              "    }\n",
              "\n",
              "    .dataframe thead th {\n",
              "        text-align: right;\n",
              "    }\n",
              "</style>\n",
              "<table border=\"1\" class=\"dataframe\">\n",
              "  <thead>\n",
              "    <tr style=\"text-align: right;\">\n",
              "      <th></th>\n",
              "      <th>NOTAS</th>\n",
              "    </tr>\n",
              "  </thead>\n",
              "  <tbody>\n",
              "    <tr>\n",
              "      <th>14</th>\n",
              "      <td>16</td>\n",
              "    </tr>\n",
              "    <tr>\n",
              "      <th>15</th>\n",
              "      <td>19</td>\n",
              "    </tr>\n",
              "  </tbody>\n",
              "</table>\n",
              "</div>\n",
              "      <button class=\"colab-df-convert\" onclick=\"convertToInteractive('df-e5e04e7c-2766-4ac2-a47f-3d92da118806')\"\n",
              "              title=\"Convert this dataframe to an interactive table.\"\n",
              "              style=\"display:none;\">\n",
              "        \n",
              "  <svg xmlns=\"http://www.w3.org/2000/svg\" height=\"24px\"viewBox=\"0 0 24 24\"\n",
              "       width=\"24px\">\n",
              "    <path d=\"M0 0h24v24H0V0z\" fill=\"none\"/>\n",
              "    <path d=\"M18.56 5.44l.94 2.06.94-2.06 2.06-.94-2.06-.94-.94-2.06-.94 2.06-2.06.94zm-11 1L8.5 8.5l.94-2.06 2.06-.94-2.06-.94L8.5 2.5l-.94 2.06-2.06.94zm10 10l.94 2.06.94-2.06 2.06-.94-2.06-.94-.94-2.06-.94 2.06-2.06.94z\"/><path d=\"M17.41 7.96l-1.37-1.37c-.4-.4-.92-.59-1.43-.59-.52 0-1.04.2-1.43.59L10.3 9.45l-7.72 7.72c-.78.78-.78 2.05 0 2.83L4 21.41c.39.39.9.59 1.41.59.51 0 1.02-.2 1.41-.59l7.78-7.78 2.81-2.81c.8-.78.8-2.07 0-2.86zM5.41 20L4 18.59l7.72-7.72 1.47 1.35L5.41 20z\"/>\n",
              "  </svg>\n",
              "      </button>\n",
              "      \n",
              "  <style>\n",
              "    .colab-df-container {\n",
              "      display:flex;\n",
              "      flex-wrap:wrap;\n",
              "      gap: 12px;\n",
              "    }\n",
              "\n",
              "    .colab-df-convert {\n",
              "      background-color: #E8F0FE;\n",
              "      border: none;\n",
              "      border-radius: 50%;\n",
              "      cursor: pointer;\n",
              "      display: none;\n",
              "      fill: #1967D2;\n",
              "      height: 32px;\n",
              "      padding: 0 0 0 0;\n",
              "      width: 32px;\n",
              "    }\n",
              "\n",
              "    .colab-df-convert:hover {\n",
              "      background-color: #E2EBFA;\n",
              "      box-shadow: 0px 1px 2px rgba(60, 64, 67, 0.3), 0px 1px 3px 1px rgba(60, 64, 67, 0.15);\n",
              "      fill: #174EA6;\n",
              "    }\n",
              "\n",
              "    [theme=dark] .colab-df-convert {\n",
              "      background-color: #3B4455;\n",
              "      fill: #D2E3FC;\n",
              "    }\n",
              "\n",
              "    [theme=dark] .colab-df-convert:hover {\n",
              "      background-color: #434B5C;\n",
              "      box-shadow: 0px 1px 3px 1px rgba(0, 0, 0, 0.15);\n",
              "      filter: drop-shadow(0px 1px 2px rgba(0, 0, 0, 0.3));\n",
              "      fill: #FFFFFF;\n",
              "    }\n",
              "  </style>\n",
              "\n",
              "      <script>\n",
              "        const buttonEl =\n",
              "          document.querySelector('#df-e5e04e7c-2766-4ac2-a47f-3d92da118806 button.colab-df-convert');\n",
              "        buttonEl.style.display =\n",
              "          google.colab.kernel.accessAllowed ? 'block' : 'none';\n",
              "\n",
              "        async function convertToInteractive(key) {\n",
              "          const element = document.querySelector('#df-e5e04e7c-2766-4ac2-a47f-3d92da118806');\n",
              "          const dataTable =\n",
              "            await google.colab.kernel.invokeFunction('convertToInteractive',\n",
              "                                                     [key], {});\n",
              "          if (!dataTable) return;\n",
              "\n",
              "          const docLinkHtml = 'Like what you see? Visit the ' +\n",
              "            '<a target=\"_blank\" href=https://colab.research.google.com/notebooks/data_table.ipynb>data table notebook</a>'\n",
              "            + ' to learn more about interactive tables.';\n",
              "          element.innerHTML = '';\n",
              "          dataTable['output_type'] = 'display_data';\n",
              "          await google.colab.output.renderOutput(dataTable, element);\n",
              "          const docLink = document.createElement('div');\n",
              "          docLink.innerHTML = docLinkHtml;\n",
              "          element.appendChild(docLink);\n",
              "        }\n",
              "      </script>\n",
              "    </div>\n",
              "  </div>\n",
              "  "
            ]
          },
          "metadata": {},
          "execution_count": 9
        }
      ]
    },
    {
      "cell_type": "markdown",
      "source": [
        "A simple vista se ve cuáles son los valores mínimos y máximos. Sin embargo, lo corrobaremos mediante un condicional."
      ],
      "metadata": {
        "id": "XP0YC4wZuMVw"
      }
    },
    {
      "cell_type": "code",
      "source": [
        "if notas_ordenadas['NOTAS'][0] == min and notas_ordenadas['NOTAS'][len(notas_ordenadas)-1] == max:\n",
        "  print('------------------ VALORES MÁXIMOS Y MÍNIMOS------------------')\n",
        "  print('Valor mínimo:', min)\n",
        "  print('Valor máximo:', max)\n",
        "else:\n",
        "  print('Error')"
      ],
      "metadata": {
        "colab": {
          "base_uri": "https://localhost:8080/"
        },
        "id": "eOpNNa3fuVtX",
        "outputId": "f28a1f8d-30da-4aab-edcf-6ae43a6e57e6"
      },
      "execution_count": 10,
      "outputs": [
        {
          "output_type": "stream",
          "name": "stdout",
          "text": [
            "------------------ VALORES MÁXIMOS Y MÍNIMOS------------------\n",
            "Valor mínimo: 3\n",
            "Valor máximo: 19\n"
          ]
        }
      ]
    },
    {
      "cell_type": "markdown",
      "source": [
        "#### Media aritmética"
      ],
      "metadata": {
        "id": "PgPyl-uJwnPj"
      }
    },
    {
      "cell_type": "markdown",
      "source": [
        "Promedio de todos los datos de la muestra. "
      ],
      "metadata": {
        "id": "sYDINwTtxdA5"
      }
    },
    {
      "cell_type": "code",
      "source": [
        "media = df_notas.mean() #Función para obtener la media\n",
        "print('Media: ', media[0])"
      ],
      "metadata": {
        "colab": {
          "base_uri": "https://localhost:8080/"
        },
        "id": "hk9uzVNTw_hI",
        "outputId": "9b6623cc-3d08-489d-b39e-f2a5e35c9df2"
      },
      "execution_count": 11,
      "outputs": [
        {
          "output_type": "stream",
          "name": "stdout",
          "text": [
            "Media:  11.875\n"
          ]
        }
      ]
    },
    {
      "cell_type": "markdown",
      "source": [
        "Se puede realizar esto mismo sin aplicar esta función. La fórmula para el cálculo de la media es la siguiente:\n",
        "![image.png](data:image/png;base64,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)"
      ],
      "metadata": {
        "id": "JZHN3ei3yZjf"
      }
    },
    {
      "cell_type": "code",
      "source": [
        "#Cálculo de la media sin función mean()\n",
        "media = 0\n",
        "xi = 0\n",
        "if numero_datos > 0:\n",
        "  for i in df_notas['NOTAS']:\n",
        "    xi = xi + i\n",
        "  media = xi/numero_datos\n",
        "print('Media: ', media)"
      ],
      "metadata": {
        "colab": {
          "base_uri": "https://localhost:8080/"
        },
        "id": "rnrUDHaRxPSc",
        "outputId": "491a04b1-88c8-4292-afdf-ed3fd84f7dcf"
      },
      "execution_count": 12,
      "outputs": [
        {
          "output_type": "stream",
          "name": "stdout",
          "text": [
            "Media:  11.875\n"
          ]
        }
      ]
    },
    {
      "cell_type": "markdown",
      "source": [
        "Interpretación del resultado: Si las notas fuese repartidas de manera equitativa, es decir, si hubiesemos empleado en todos los examenes los mismos esfuerzos, la nota habria sido de 11.875 de 20."
      ],
      "metadata": {
        "id": "U6BOmnd3zRYk"
      }
    },
    {
      "cell_type": "markdown",
      "source": [
        "#### Mediana"
      ],
      "metadata": {
        "id": "bW1VkK0eznkx"
      }
    },
    {
      "cell_type": "markdown",
      "source": [
        "Valor que ordenados los datos de una muestra de menor a mayor, desde el 50% de ellos a la izquierda y 50% derecha. Fórmula (varía dependiendo de si el total de datos es par o impar):\n",
        "\n",
        "**IMPAR:**\n",
        "\n",
        "![image.png](data:image/png;base64,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)\n",
        "\n",
        "**PAR:**\n",
        "\n",
        "![image.png](data:image/png;base64,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)"
      ],
      "metadata": {
        "id": "1XvOab3Rzv02"
      }
    },
    {
      "cell_type": "markdown",
      "source": [
        "*1ª OPCIÓN*"
      ],
      "metadata": {
        "id": "tLZlX5F51vFz"
      }
    },
    {
      "cell_type": "code",
      "source": [
        "mediana = np.median(df_notas)\n",
        "print('Mediana: ', mediana)"
      ],
      "metadata": {
        "colab": {
          "base_uri": "https://localhost:8080/"
        },
        "id": "8f66eNz21S0y",
        "outputId": "b044cc86-fe14-40e0-967c-b823c7182158"
      },
      "execution_count": 13,
      "outputs": [
        {
          "output_type": "stream",
          "name": "stdout",
          "text": [
            "Mediana:  12.0\n"
          ]
        }
      ]
    },
    {
      "cell_type": "markdown",
      "source": [
        "*2ª OPCIÓN*"
      ],
      "metadata": {
        "id": "yOebCjhx4QCi"
      }
    },
    {
      "cell_type": "code",
      "source": [
        "def calcularMediana():  \n",
        "  mediana = 0 \n",
        "  if numero_datos%2 == 0: #RESTO = 0; PAR\n",
        "    indice = numero_datos/2\n",
        "    rangoPython = indice -1 \n",
        "    mediana = (notas_ordenadas['NOTAS'][rangoPython] + notas_ordenadas['NOTAS'][rangoPython +1 ])/2\n",
        "    print('Mediana: ', mediana)\n",
        "    \n",
        "  else:\n",
        "      indice = (numero_datos +1)/2\n",
        "      mediana = (notas_ordenadas['NOTAS'][indice])/2\n",
        "      print('Mediana: ', mediana)\n",
        "\n",
        "  return (mediana, indice)\n",
        "\n",
        "\n",
        "calcularMediana()[1]\n"
      ],
      "metadata": {
        "colab": {
          "base_uri": "https://localhost:8080/"
        },
        "id": "5l-V9Q4h4QkZ",
        "outputId": "69ebb7b4-08a6-4ed1-8076-bd8e33a7e4af"
      },
      "execution_count": 14,
      "outputs": [
        {
          "output_type": "stream",
          "name": "stdout",
          "text": [
            "Mediana:  12.0\n"
          ]
        },
        {
          "output_type": "execute_result",
          "data": {
            "text/plain": [
              "8.0"
            ]
          },
          "metadata": {},
          "execution_count": 14
        }
      ]
    },
    {
      "cell_type": "markdown",
      "source": [
        "Se establece el rango de Python ya que el índice en la lista de Python es diferente al natural, en el caso de Python empieza en 0. Para ello lo corregimos restando 1 al índice que se ha dado.\n",
        "\n"
      ],
      "metadata": {
        "id": "xJ9U6-SC5tPO"
      }
    },
    {
      "cell_type": "markdown",
      "source": [
        "#### Moda"
      ],
      "metadata": {
        "id": "H13PfYcR6xRS"
      }
    },
    {
      "cell_type": "markdown",
      "source": [
        "Valor que contiene más frecuencia absoluta."
      ],
      "metadata": {
        "id": "9Yp7nDvz60RF"
      }
    },
    {
      "cell_type": "code",
      "source": [
        "contar = Counter(df_notas['NOTAS'])\n",
        "print(contar)\n",
        "moda = contar.most_common(1)[0][0]\n",
        "print(\"Moda:\", moda)\n"
      ],
      "metadata": {
        "colab": {
          "base_uri": "https://localhost:8080/"
        },
        "id": "4Yzt8dIL8d7Q",
        "outputId": "be33c226-42b7-4c03-fb6b-2ddc1af0aba7"
      },
      "execution_count": 15,
      "outputs": [
        {
          "output_type": "stream",
          "name": "stdout",
          "text": [
            "Counter({12: 3, 11: 3, 14: 2, 3: 1, 19: 1, 10: 1, 15: 1, 9: 1, 8: 1, 13: 1, 16: 1})\n",
            "Moda: 12\n"
          ]
        }
      ]
    },
    {
      "cell_type": "markdown",
      "source": [
        "### **Medida de dispersión**"
      ],
      "metadata": {
        "id": "FihXxtHyozGs"
      }
    },
    {
      "cell_type": "code",
      "source": [
        "def calculoVarianzaDesviacionTipica():\n",
        "        n = numero_datos\n",
        "        mediaAritmetica = notas_ordenadas.mean()\n",
        "        varianza = 0\n",
        "        c3 = 0\n",
        "        for valorObservacion in notas_ordenadas['NOTAS']:\n",
        "            x = valorObservacion\n",
        "            moy = mediaAritmetica\n",
        "            c1 = valorObservacion - mediaAritmetica\n",
        "            c2 = c1 * c1\n",
        "            c3 = c3 + c2\n",
        "\n",
        "        varianza = c3 / (n - 1)\n",
        "\n",
        "        desviacionTipica = np.sqrt(varianza)\n",
        "\n",
        "        return ([varianza, desviacionTipica])"
      ],
      "metadata": {
        "id": "-MXKF3JjCWFM"
      },
      "execution_count": 16,
      "outputs": []
    },
    {
      "cell_type": "code",
      "source": [
        "print(\"Rango de la serie = \"+str(notas_ordenadas['NOTAS'][len(notas_ordenadas)-1]-notas_ordenadas['NOTAS'][0]))\n",
        "varianzaDesviacionTipica = calculoVarianzaDesviacionTipica()"
      ],
      "metadata": {
        "id": "U0Rp9n3OCu8b",
        "colab": {
          "base_uri": "https://localhost:8080/"
        },
        "outputId": "b582b404-8392-45c3-d626-ba3edcdbf1a1"
      },
      "execution_count": 17,
      "outputs": [
        {
          "output_type": "stream",
          "name": "stdout",
          "text": [
            "Rango de la serie = 16\n"
          ]
        }
      ]
    },
    {
      "cell_type": "code",
      "source": [
        "print(\"\\n-- VARIANZA --\")\n",
        "print(\"Varianza calculada = \" + str(varianzaDesviacionTipica[0]))"
      ],
      "metadata": {
        "id": "H_Ny4JJZBnTK",
        "colab": {
          "base_uri": "https://localhost:8080/"
        },
        "outputId": "062612df-150e-4ba7-9969-73dd2f730c86"
      },
      "execution_count": 18,
      "outputs": [
        {
          "output_type": "stream",
          "name": "stdout",
          "text": [
            "\n",
            "-- VARIANZA --\n",
            "Varianza calculada = NOTAS    13.05\n",
            "dtype: float64\n"
          ]
        }
      ]
    },
    {
      "cell_type": "code",
      "source": [
        "print(\"\\n-- DESVIACION TIPICA --\")\n",
        "print(\"Desviación típica calculada = \" + str(varianzaDesviacionTipica[1]))\n",
        "desviacionTipica = varianzaDesviacionTipica[1]\n",
        "print(\"68 % de los valores de las observaciones se sitúan entre \" + str(media - desviacionTipica) + \" y \" + str(media + desviacionTipica))\n",
        "print(\"95 % de los valores de las observaciones se sitúan entre \" + str(media - (desviacionTipica * 2)) + \" y \" + str(media + (desviacionTipica * 2)))\n",
        "print(\"99 % de los valores de las observaciones se sitúan entre \" + str(media - (desviacionTipica * 3)) + \" y \" + str(media + (desviacionTipica * 3)))"
      ],
      "metadata": {
        "id": "daeTa_mtBrl5",
        "colab": {
          "base_uri": "https://localhost:8080/"
        },
        "outputId": "c3b9c4af-97db-4cf6-cf16-3d12d39a26e4"
      },
      "execution_count": 19,
      "outputs": [
        {
          "output_type": "stream",
          "name": "stdout",
          "text": [
            "\n",
            "-- DESVIACION TIPICA --\n",
            "Desviación típica calculada = NOTAS    3.612478\n",
            "dtype: float64\n",
            "68 % de los valores de las observaciones se sitúan entre NOTAS    8.262522\n",
            "dtype: float64 y NOTAS    15.487478\n",
            "dtype: float64\n",
            "95 % de los valores de las observaciones se sitúan entre NOTAS    4.650043\n",
            "dtype: float64 y NOTAS    19.099957\n",
            "dtype: float64\n",
            "99 % de los valores de las observaciones se sitúan entre NOTAS    1.037565\n",
            "dtype: float64 y NOTAS    22.712435\n",
            "dtype: float64\n"
          ]
        }
      ]
    },
    {
      "cell_type": "markdown",
      "source": [
        "### **Cuartiles**"
      ],
      "metadata": {
        "id": "FJXa5JoDB21z"
      }
    },
    {
      "cell_type": "code",
      "source": [
        "def calculoDelosCuartiles(mediana,rangoMediana):\n",
        "        n = numero_datos\n",
        "        sort_caracteristica = notas_ordenadas['NOTAS']\n",
        "        q1 = 0\n",
        "        q2 = mediana\n",
        "        q3 = 0\n",
        "\n",
        "        #Cálculo Q1\n",
        "        restoDivision = rangoMediana%2\n",
        "        if (restoDivision != 0):\n",
        "            q1 = sort_caracteristica[((rangoMediana/2)+1)-1]\n",
        "        else:\n",
        "            valorMin = sort_caracteristica[((rangoMediana/2)-1)]\n",
        "            valorMax = sort_caracteristica[(rangoMediana/2)]\n",
        "            q1 = (valorMin + ((valorMax - valorMin) / 2) + valorMax) / 2\n",
        "\n",
        "        # Cálculo Q3\n",
        "        nbdatos = len(sort_caracteristica)+1\n",
        "        nbDatosDesdeMediana = nbdatos - rangoMediana\n",
        "        restoDivision = nbDatosDesdeMediana % 2\n",
        "        if (restoDivision != 0):\n",
        "            q3 = sort_caracteristica[(rangoMediana+ceil(nbDatosDesdeMediana/2))-1]\n",
        "        else:\n",
        "            valorMinQ3 = sort_caracteristica[(rangoMediana+(nbDatosDesdeMediana/2))-1]\n",
        "            valorMaxQ3 = sort_caracteristica[(rangoMediana+(nbDatosDesdeMediana/2))]\n",
        "            q3 = (valorMin + ((valorMax - valorMin) / 2) + valorMax) / 2\n",
        "\n",
        "\n",
        "        return ([q1, q2, q3])"
      ],
      "metadata": {
        "id": "wHk7m_j2I6hU"
      },
      "execution_count": 20,
      "outputs": []
    },
    {
      "cell_type": "code",
      "source": [
        "print(\"      CUARTILES        \")\n",
        "print(\"-----------------------------------------\\n\")\n",
        "cuartiles = calculoDelosCuartiles(calcularMediana()[0], calcularMediana()[1])\n",
        "print(\"25 % de las observaciones tienen un valor inferior a \" + str(cuartiles[0]))\n",
        "print(\"50 % de las observaciones tienen un valor inferior a \" + str(cuartiles[1]))\n",
        "print(\"75 % de las observaciones tienen un valor inferior a \" + str(cuartiles[2]))"
      ],
      "metadata": {
        "id": "vVwStEk3Bwsq",
        "colab": {
          "base_uri": "https://localhost:8080/"
        },
        "outputId": "ba151010-26a9-418c-cc34-4466f3e029ce"
      },
      "execution_count": 21,
      "outputs": [
        {
          "output_type": "stream",
          "name": "stdout",
          "text": [
            "      CUARTILES        \n",
            "-----------------------------------------\n",
            "\n",
            "Mediana:  12.0\n",
            "Mediana:  12.0\n",
            "25 % de las observaciones tienen un valor inferior a 10.75\n",
            "50 % de las observaciones tienen un valor inferior a 12.0\n",
            "75 % de las observaciones tienen un valor inferior a 14\n"
          ]
        }
      ]
    },
    {
      "cell_type": "markdown",
      "source": [
        "### **Detección de valores aberrantes**"
      ],
      "metadata": {
        "id": "ExaJ_HwLo9FC"
      }
    },
    {
      "cell_type": "code",
      "source": [
        "def criterioDeTukey(primerCuartil, tercerCuartil):\n",
        "\n",
        "        valoresAberrantesInferiores = []\n",
        "        valoresAberrantesSuperiores = []\n",
        "        caracteristica = notas_ordenadas['NOTAS']\n",
        "        intercuartil = tercerCuartil - primerCuartil\n",
        "        print(\"Inter-cuartil = \"+str(intercuartil))\n",
        "        limiteInferior = primerCuartil - (1.5 * intercuartil)\n",
        "        limiteSuperior = tercerCuartil + (1.5 * intercuartil)\n",
        "\n",
        "        for valorObservacion in caracteristica:\n",
        "            if valorObservacion < limiteInferior:\n",
        "                valoresAberrantesInferiores.append(valorObservacion)\n",
        "\n",
        "            if valorObservacion > limiteSuperior:\n",
        "                valoresAberrantesSuperiores.append(valorObservacion)\n",
        "\n",
        "        valoresAberrantes = valoresAberrantesInferiores + valoresAberrantesSuperiores\n",
        "\n",
        "        return valoresAberrantes"
      ],
      "metadata": {
        "id": "afHYaP5eNIoa"
      },
      "execution_count": 22,
      "outputs": []
    },
    {
      "cell_type": "code",
      "source": [
        "print(\"\\n\\n-----------------------------------------\")\n",
        "print(\"      DETECCION VALORES ABERRANTES        \")\n",
        "print(\"-----------------------------------------\\n\")\n",
        "print(\"> Criterios de Tukey\")\n",
        "valoresAberrantes = criterioDeTukey(cuartiles[0], cuartiles[2])\n",
        "print(\"Cantidad de valores aberrantes: \" + str(len(valoresAberrantes)))\n",
        "print(\"Valores:\" + str(valoresAberrantes))"
      ],
      "metadata": {
        "colab": {
          "base_uri": "https://localhost:8080/"
        },
        "id": "gkoZaeJzNSIs",
        "outputId": "89253bd2-5885-4be2-d81b-0c3eaa161b8c"
      },
      "execution_count": 23,
      "outputs": [
        {
          "output_type": "stream",
          "name": "stdout",
          "text": [
            "\n",
            "\n",
            "-----------------------------------------\n",
            "      DETECCION VALORES ABERRANTES        \n",
            "-----------------------------------------\n",
            "\n",
            "> Criterios de Tukey\n",
            "Inter-cuartil = 3.25\n",
            "Cantidad de valores aberrantes: 2\n",
            "Valores:[3, 19]\n"
          ]
        }
      ]
    },
    {
      "cell_type": "markdown",
      "source": [
        "## GRÁFICAS"
      ],
      "metadata": {
        "id": "V-WFfUzTpDF1"
      }
    },
    {
      "cell_type": "code",
      "source": [
        "plt.subplot(2, 2, 1)\n",
        "plt.hist(df_notas['NOTAS'])\n",
        "plt.title(\"Histograma y media\")\n",
        "plt.axvline(media, color='red', linestyle='dashed', linewidth=1,label = str(media))\n",
        "plt.legend(loc='upper right')"
      ],
      "metadata": {
        "colab": {
          "base_uri": "https://localhost:8080/",
          "height": 268
        },
        "id": "zD0mPa6xtSHx",
        "outputId": "f986aab4-cde1-40a8-ee0d-11911d4a6fa2"
      },
      "execution_count": 24,
      "outputs": [
        {
          "output_type": "execute_result",
          "data": {
            "text/plain": [
              "<matplotlib.legend.Legend at 0x7fd2aa743970>"
            ]
          },
          "metadata": {},
          "execution_count": 24
        },
        {
          "output_type": "display_data",
          "data": {
            "text/plain": [
              "<Figure size 640x480 with 1 Axes>"
            ],
            "image/png": "[encoded data removed]"
          },
          "metadata": {}
        }
      ]
    },
    {
      "cell_type": "code",
      "source": [
        "plt.subplot(2, 2, 2)\n",
        "plt.hist(df_notas['NOTAS'])\n",
        "plt.title(\"Histograma y mediana\")\n",
        "plt.axvline(mediana, color='green', linestyle='dashed', linewidth=1,label = str(mediana))\n",
        "plt.legend(loc='upper right')"
      ],
      "metadata": {
        "colab": {
          "base_uri": "https://localhost:8080/",
          "height": 268
        },
        "id": "A7LH3WH2vQVu",
        "outputId": "6fabe055-753a-4b7c-eb02-cc47f5fe1b5e"
      },
      "execution_count": 25,
      "outputs": [
        {
          "output_type": "execute_result",
          "data": {
            "text/plain": [
              "<matplotlib.legend.Legend at 0x7fd2a860bd00>"
            ]
          },
          "metadata": {},
          "execution_count": 25
        },
        {
          "output_type": "display_data",
          "data": {
            "text/plain": [
              "<Figure size 640x480 with 1 Axes>"
            ],
            "image/png": "[encoded data removed]"
          },
          "metadata": {}
        }
      ]
    },
    {
      "cell_type": "code",
      "source": [
        "plt.subplot(2, 2, 3)\n",
        "plt.hist(df_notas['NOTAS'])\n",
        "plt.title(\"Histograma y cuartiles\")\n",
        "plt.axvline(cuartiles[0], color='orange', linestyle='dashed', linewidth=1,label = \"Q1: \"+str(cuartiles[0]))\n",
        "plt.axvline(cuartiles[1], color='orange', linestyle='dashed', linewidth=1,label = \"Q2: \"+str(cuartiles[1]))\n",
        "plt.axvline(cuartiles[2], color='orange', linestyle='dashed', linewidth=1,label = \"Q3: \"+str(cuartiles[2]))\n",
        "plt.legend(loc='upper right')"
      ],
      "metadata": {
        "colab": {
          "base_uri": "https://localhost:8080/",
          "height": 268
        },
        "id": "8bYlXiRovhjt",
        "outputId": "13f7fcb7-62db-4a59-f030-e9d674ca75e2"
      },
      "execution_count": 26,
      "outputs": [
        {
          "output_type": "execute_result",
          "data": {
            "text/plain": [
              "<matplotlib.legend.Legend at 0x7fd2a85430a0>"
            ]
          },
          "metadata": {},
          "execution_count": 26
        },
        {
          "output_type": "display_data",
          "data": {
            "text/plain": [
              "<Figure size 640x480 with 1 Axes>"
            ],
            "image/png": "[encoded data removed]"
          },
          "metadata": {}
        }
      ]
    },
    {
      "cell_type": "code",
      "source": [
        "plt.subplot(2, 2, 4)\n",
        "plt.boxplot(df_notas['NOTAS'])\n",
        "plt.title(\"Diagrama de caja y bigotes\")\n",
        "plt.show()"
      ],
      "metadata": {
        "colab": {
          "base_uri": "https://localhost:8080/",
          "height": 251
        },
        "id": "J8oic9K0wJ8b",
        "outputId": "b776a39c-c3c7-43c7-aef7-0a96d5d100a4"
      },
      "execution_count": 27,
      "outputs": [
        {
          "output_type": "display_data",
          "data": {
            "text/plain": [
              "<Figure size 640x480 with 1 Axes>"
            ],
            "image/png": "[encoded data removed]"
          },
          "metadata": {}
        }
      ]
    }
  ]
}